{
 "cells": [
  {
   "cell_type": "code",
   "execution_count": null,
   "metadata": {},
   "outputs": [],
   "source": [
    "import numpy as np\n",
    "import scipy.fftpack as ft\n",
    "import utils as utils\n",
    "\n",
    "def choose_frequencies():\n",
    "    \"\"\"\n",
    "    # provide three frequencies in a range between 1 and 50    \n",
    "    :return: [int, int, int]\n",
    "    \"\"\"\n",
    "    # *** TODO provide three frequencies between 1 and 50\n",
    "    freq1 = 10\n",
    "    freq2 = 30\n",
    "    freq3 = 29\n",
    "    # end TODO\n",
    "\n",
    "    return [freq1, freq2, freq3]\n",
    "\n",
    "\n",
    "def add_the_waves(freqs):\n",
    "    \"\"\"\n",
    "    create three sinusoidal waves and one wave that is the sum of the three\n",
    "    :param freqs: [int, int, int]\n",
    "    :return: [np.array, np.array, np.array, np.array]\n",
    "        representing wave1, wave2, wave3, sum of waves\n",
    "        each array contains 500(by default) discrete values for plotting a sinusoidal\n",
    "    \"\"\"\n",
    "    _, _, t = utils.get_wave_timing()\n",
    "    w1, w2, w3 = utils.make_waves(t, freqs)\n",
    "\n",
    "    # TODO sum the waves together to form sum_waves\n",
    "    sum_waves = w1 + w2 + w3\n",
    "    # end TODO\n",
    "\n",
    "    return [w1, w2, w3, sum_waves]\n",
    "\n",
    "\n",
    "def demo_fft(sum_waves):\n",
    "    num_samples, spacing, _ = utils.get_wave_timing()\n",
    "\n",
    "    # TODO create a Fast Fourier Transform of the waveform using scipy.fftpack.fft\n",
    "    # named 'y_fft'\n",
    "    y_fft = ft.fft(sum_waves, n=None, axis = -1)\n",
    "    # end TODO\n",
    "\n",
    "    x_fft = np.linspace(0.0, 1.0/spacing, num_samples)\n",
    "    return x_fft, y_fft"
   ]
  }
 ],
 "metadata": {
  "kernelspec": {
   "display_name": "Python 3",
   "language": "python",
   "name": "python3"
  },
  "language_info": {
   "codemirror_mode": {
    "name": "ipython",
    "version": 3
   },
   "file_extension": ".py",
   "mimetype": "text/x-python",
   "name": "python",
   "nbconvert_exporter": "python",
   "pygments_lexer": "ipython3",
   "version": "3.6.8"
  }
 },
 "nbformat": 4,
 "nbformat_minor": 2
}
